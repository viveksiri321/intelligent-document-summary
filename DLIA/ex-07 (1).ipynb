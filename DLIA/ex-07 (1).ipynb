{
 "cells": [
  {
   "cell_type": "code",
   "execution_count": 2,
   "id": "c8a5630b",
   "metadata": {},
   "outputs": [],
   "source": [
    "import numpy as np \n",
    "import matplotlib.pyplot as plt \n",
    "from tensorflow.keras.datasets import mnist \n",
    "from tensorflow.keras.models import Sequential \n",
    "from tensorflow.keras.layers import Conv2D, MaxPooling2D, Flatten, Dense, Add, Input \n",
    "from tensorflow.keras.utils import to_categorical "
   ]
  },
  {
   "cell_type": "code",
   "execution_count": 3,
   "id": "086eb8b0",
   "metadata": {},
   "outputs": [],
   "source": [
    "def create_resnet_block(x, filters): \n",
    "    shortcut = x \n",
    " \n",
    "    x = Conv2D(filters=filters, kernel_size=3, padding='same', \n",
    "activation='relu')(x) \n",
    "    x = Conv2D(filters=filters, kernel_size=3, padding='same')(x) \n",
    " \n",
    "    x = Add()([x, shortcut]) \n",
    "    x = Activation('relu')(x) \n",
    "    return x "
   ]
  },
  {
   "cell_type": "code",
   "execution_count": 4,
   "id": "1c0abe60",
   "metadata": {},
   "outputs": [],
   "source": [
    "def create_model(resnet_blocks=False): \n",
    "    model = Sequential() \n",
    "    model.add(Conv2D(32, (3, 3), activation='relu', padding='same', \n",
    "input_shape=(28, 28, 1))) \n",
    "    model.add(MaxPooling2D((2, 2)))"
   ]
  },
  {
   "cell_type": "code",
   "execution_count": 19,
   "id": "233cbc81",
   "metadata": {},
   "outputs": [],
   "source": [
    "def create_model(resnet_blocks=False): \n",
    "    model = Sequential() \n",
    "    model.add(Conv2D(32, (3, 3), activation='relu', padding='same', \n",
    "input_shape=(28, 28, 1))) \n",
    "    model.add(MaxPooling2D((2, 2))) \n",
    " \n",
    "    if resnet_blocks: \n",
    "        model.add(create_resnet_block(model.layers[-1].output, 32)) \n",
    " \n",
    "    model.add(Flatten()) \n",
    "    model.add(Dense(128, activation='relu')) \n",
    "    model.add(Dense(10, activation='softmax')) \n",
    " \n",
    "    model.compile(loss='categorical_crossentropy', optimizer='adam', metrics=['accuracy']) \n",
    "    return model "
   ]
  },
  {
   "cell_type": "code",
   "execution_count": 20,
   "id": "b5b8b8f2",
   "metadata": {},
   "outputs": [],
   "source": [
    "# Load MNIST dataset \n",
    "(x_train, y_train), (x_test, y_test) = mnist.load_data()"
   ]
  },
  {
   "cell_type": "code",
   "execution_count": 21,
   "id": "01bf5c5c",
   "metadata": {},
   "outputs": [],
   "source": [
    "# Preprocess data \n",
    "x_train = x_train.reshape(x_train.shape[0], 28, 28, 1) \n",
    "x_test = x_test.reshape(x_test.shape[0], 28, 28, 1) \n",
    "x_train = x_train.astype('float32') / 255 \n",
    "x_test = x_test.astype('float32') / 255 \n",
    "y_train = to_categorical(y_train, num_classes=10) \n",
    "y_test = to_categorical(y_test, num_classes=10)"
   ]
  },
  {
   "cell_type": "code",
   "execution_count": null,
   "id": "aaab7131",
   "metadata": {},
   "outputs": [
    {
     "name": "stdout",
     "output_type": "stream",
     "text": [
      "Epoch 1/10\n",
      "\u001b[1m1875/1875\u001b[0m \u001b[32m━━━━━━━━━━━━━━━━━━━━\u001b[0m\u001b[37m\u001b[0m \u001b[1m22s\u001b[0m 11ms/step - accuracy: 0.9543 - loss: 0.1528 - val_accuracy: 0.9779 - val_loss: 0.0667\n",
      "Epoch 2/10\n",
      "\u001b[1m1875/1875\u001b[0m \u001b[32m━━━━━━━━━━━━━━━━━━━━\u001b[0m\u001b[37m\u001b[0m \u001b[1m27s\u001b[0m 14ms/step - accuracy: 0.9834 - loss: 0.0535 - val_accuracy: 0.9850 - val_loss: 0.0468\n",
      "Epoch 3/10\n",
      "\u001b[1m1875/1875\u001b[0m \u001b[32m━━━━━━━━━━━━━━━━━━━━\u001b[0m\u001b[37m\u001b[0m \u001b[1m21s\u001b[0m 11ms/step - accuracy: 0.9889 - loss: 0.0341 - val_accuracy: 0.9845 - val_loss: 0.0461\n",
      "Epoch 4/10\n",
      "\u001b[1m1875/1875\u001b[0m \u001b[32m━━━━━━━━━━━━━━━━━━━━\u001b[0m\u001b[37m\u001b[0m \u001b[1m19s\u001b[0m 10ms/step - accuracy: 0.9928 - loss: 0.0223 - val_accuracy: 0.9827 - val_loss: 0.0564\n",
      "Epoch 5/10\n",
      "\u001b[1m1875/1875\u001b[0m \u001b[32m━━━━━━━━━━━━━━━━━━━━\u001b[0m\u001b[37m\u001b[0m \u001b[1m19s\u001b[0m 10ms/step - accuracy: 0.9950 - loss: 0.0159 - val_accuracy: 0.9852 - val_loss: 0.0526\n",
      "Epoch 6/10\n",
      "\u001b[1m1875/1875\u001b[0m \u001b[32m━━━━━━━━━━━━━━━━━━━━\u001b[0m\u001b[37m\u001b[0m \u001b[1m20s\u001b[0m 11ms/step - accuracy: 0.9962 - loss: 0.0112 - val_accuracy: 0.9855 - val_loss: 0.0474\n",
      "Epoch 7/10\n",
      "\u001b[1m1875/1875\u001b[0m \u001b[32m━━━━━━━━━━━━━━━━━━━━\u001b[0m\u001b[37m\u001b[0m \u001b[1m22s\u001b[0m 12ms/step - accuracy: 0.9970 - loss: 0.0094 - val_accuracy: 0.9865 - val_loss: 0.0500\n",
      "Epoch 8/10\n",
      "\u001b[1m1875/1875\u001b[0m \u001b[32m━━━━━━━━━━━━━━━━━━━━\u001b[0m\u001b[37m\u001b[0m \u001b[1m25s\u001b[0m 13ms/step - accuracy: 0.9980 - loss: 0.0066 - val_accuracy: 0.9877 - val_loss: 0.0499\n",
      "Epoch 9/10\n",
      "\u001b[1m1875/1875\u001b[0m \u001b[32m━━━━━━━━━━━━━━━━━━━━\u001b[0m\u001b[37m\u001b[0m \u001b[1m35s\u001b[0m 19ms/step - accuracy: 0.9982 - loss: 0.0056 - val_accuracy: 0.9875 - val_loss: 0.0524\n",
      "Epoch 10/10\n",
      "\u001b[1m1875/1875\u001b[0m \u001b[32m━━━━━━━━━━━━━━━━━━━━\u001b[0m\u001b[37m\u001b[0m \u001b[1m23s\u001b[0m 12ms/step - accuracy: 0.9981 - loss: 0.0053 - val_accuracy: 0.9853 - val_loss: 0.0569\n",
      "Epoch 1/10\n",
      "\u001b[1m1875/1875\u001b[0m \u001b[32m━━━━━━━━━━━━━━━━━━━━\u001b[0m\u001b[37m\u001b[0m \u001b[1m33s\u001b[0m 17ms/step - accuracy: 0.9631 - loss: 0.1211 - val_accuracy: 0.9856 - val_loss: 0.0422\n",
      "Epoch 2/10\n",
      "\u001b[1m1875/1875\u001b[0m \u001b[32m━━━━━━━━━━━━━━━━━━━━\u001b[0m\u001b[37m\u001b[0m \u001b[1m31s\u001b[0m 16ms/step - accuracy: 0.9877 - loss: 0.0400 - val_accuracy: 0.9890 - val_loss: 0.0321\n",
      "Epoch 3/10\n",
      "\u001b[1m1875/1875\u001b[0m \u001b[32m━━━━━━━━━━━━━━━━━━━━\u001b[0m\u001b[37m\u001b[0m \u001b[1m0s\u001b[0m 13ms/step - accuracy: 0.9930 - loss: 0.0221"
     ]
    }
   ],
   "source": [
    "# Import required libraries\n",
    "import matplotlib.pyplot as plt\n",
    "from tensorflow.keras.datasets import mnist\n",
    "from tensorflow.keras.models import Sequential\n",
    "from tensorflow.keras.layers import Conv2D, MaxPooling2D, Flatten, Dense, Add, Activation\n",
    "from tensorflow.keras.utils import to_categorical\n",
    "\n",
    "# Load MNIST dataset \n",
    "(x_train, y_train), (x_test, y_test) = mnist.load_data()\n",
    "\n",
    "# Preprocess data \n",
    "x_train = x_train.reshape(x_train.shape[0], 28, 28, 1).astype('float32') / 255\n",
    "x_test = x_test.reshape(x_test.shape[0], 28, 28, 1).astype('float32') / 255\n",
    "y_train = to_categorical(y_train, num_classes=10)\n",
    "y_test = to_categorical(y_test, num_classes=10)\n",
    "\n",
    "# Define ResNet block\n",
    "def create_resnet_block(input_tensor, filters):\n",
    "    x = Conv2D(filters=filters, kernel_size=3, padding='same')(input_tensor)\n",
    "    x = Add()([x, input_tensor])\n",
    "    x = Activation('relu')(x)\n",
    "    return x\n",
    "\n",
    "# Define model creation function\n",
    "def create_model(resnet_blocks=False):\n",
    "    from tensorflow.keras.models import Model\n",
    "    from tensorflow.keras.layers import Input\n",
    "\n",
    "    input_layer = Input(shape=(28, 28, 1))\n",
    "    x = Conv2D(32, (3, 3), activation='relu', padding='same')(input_layer)\n",
    "    x = MaxPooling2D((2, 2))(x)\n",
    "    \n",
    "    if resnet_blocks:\n",
    "        x = create_resnet_block(x, 32)\n",
    "    \n",
    "    x = Flatten()(x)\n",
    "    x = Dense(128, activation='relu')(x)\n",
    "    output_layer = Dense(10, activation='softmax')(x)\n",
    "\n",
    "    model = Model(inputs=input_layer, outputs=output_layer)\n",
    "    model.compile(optimizer='adam', loss='categorical_crossentropy', metrics=['accuracy'])\n",
    "    return model\n",
    "\n",
    "# Create models\n",
    "model_without_resnet = create_model(resnet_blocks=False)\n",
    "model_with_resnet = create_model(resnet_blocks=True)\n",
    "\n",
    "# Train models\n",
    "history_without_resnet = model_without_resnet.fit(x_train, y_train, epochs=10, validation_data=(x_test, y_test))\n",
    "history_with_resnet = model_with_resnet.fit(x_train, y_train, epochs=10, validation_data=(x_test, y_test))\n",
    "\n",
    "# Plot training and validation loss curves\n",
    "plt.plot(history_without_resnet.history['loss'], label='Without ResNet, training')\n",
    "plt.plot(history_without_resnet.history['val_loss'], label='Without ResNet, validation')\n",
    "plt.plot(history_with_resnet.history['loss'], label='With ResNet, training')\n",
    "plt.plot(history_with_resnet.history['val_loss'], label='With ResNet, validation')\n",
    "plt.xlabel('Epoch')\n",
    "plt.ylabel('Loss')\n",
    "plt.legend()\n",
    "plt.title('Loss Comparison')\n",
    "plt.show()\n"
   ]
  }
 ],
 "metadata": {
  "kernelspec": {
   "display_name": "Python 3",
   "language": "python",
   "name": "python3"
  },
  "language_info": {
   "codemirror_mode": {
    "name": "ipython",
    "version": 3
   },
   "file_extension": ".py",
   "mimetype": "text/x-python",
   "name": "python",
   "nbconvert_exporter": "python",
   "pygments_lexer": "ipython3",
   "version": "3.10.11"
  }
 },
 "nbformat": 4,
 "nbformat_minor": 5
}
