{
 "cells": [
  {
   "cell_type": "code",
   "execution_count": 1,
   "id": "26cd0c92",
   "metadata": {},
   "outputs": [],
   "source": [
    "import numpy as np \n",
    "import matplotlib.pyplot as plt \n",
    "from tensorflow.keras.applications import VGG16"
   ]
  },
  {
   "cell_type": "code",
   "execution_count": 2,
   "id": "7f40b8cd",
   "metadata": {},
   "outputs": [
    {
     "name": "stdout",
     "output_type": "stream",
     "text": [
      "Downloading data from https://storage.googleapis.com/tensorflow/keras-applications/vgg16/vgg16_weights_tf_dim_ordering_tf_kernels_notop.h5\n",
      "\u001b[1m58889256/58889256\u001b[0m \u001b[32m━━━━━━━━━━━━━━━━━━━━\u001b[0m\u001b[37m\u001b[0m \u001b[1m26s\u001b[0m 0us/step\n"
     ]
    }
   ],
   "source": [
    "# Load the VGG16 model without the top layers \n",
    "model = VGG16(weights='imagenet', include_top=False, input_shape=(224, \n",
    "224, 3)) "
   ]
  },
  {
   "cell_type": "code",
   "execution_count": 5,
   "id": "d554cae7",
   "metadata": {},
   "outputs": [],
   "source": [
    "# Find a convolutional layer with weights (let's try the first convolutional layer with weights) \n",
    "for layer in model.layers: \n",
    "    if 'conv' in layer.name and layer.get_weights():  # Check if layer is convolutional and has weights \n",
    "        conv_layer = layer \n",
    "        break  # Exit the loop once a suitable layer is found"
   ]
  },
  {
   "cell_type": "code",
   "execution_count": 6,
   "id": "19134c85",
   "metadata": {},
   "outputs": [],
   "source": [
    "# Get the weights of the convolutional layer \n",
    "weights = conv_layer.get_weights()[0]"
   ]
  },
  {
   "cell_type": "code",
   "execution_count": 7,
   "id": "8e056ead",
   "metadata": {},
   "outputs": [],
   "source": [
    "# Normalize weights to range 0-1 for visualization \n",
    "weights = (weights - weights.min()) / (weights.max() - weights.min()) "
   ]
  },
  {
   "cell_type": "code",
   "execution_count": 8,
   "id": "033b5ce4",
   "metadata": {},
   "outputs": [
    {
     "data": {
      "image/png": "[encoded data removed]",
      "text/plain": [
       "<Figure size 1200x800 with 32 Axes>"
      ]
     },
     "metadata": {},
     "output_type": "display_data"
    }
   ],
   "source": [
    "# Visualize the filters \n",
    "fig, axs = plt.subplots(4, 8, figsize=(12, 8)) \n",
    "for i in range(32):  # Assuming 32 filters in the first layer \n",
    "    ax = axs.flat[i] \n",
    "    ax.imshow(weights[:, :, :, i], cmap='viridis', \n",
    "interpolation='nearest')  # Use viridis colormap and nearest interpolation \n",
    "    ax.axis('off') \n"
   ]
  },
  {
   "cell_type": "code",
   "execution_count": 9,
   "id": "8bace1ed",
   "metadata": {},
   "outputs": [
    {
     "data": {
      "text/plain": [
       "<Figure size 640x480 with 0 Axes>"
      ]
     },
     "metadata": {},
     "output_type": "display_data"
    }
   ],
   "source": [
    "# Set title and adjust layout for better visualization \n",
    "plt.suptitle('Convolutional Layer Filters (Normalized and Colormapped)', \n",
    "fontsize=16) \n",
    "plt.tight_layout() \n",
    "plt.subplots_adjust(top=0.92)  # Adjust top margin for title \n",
    "plt.show() "
   ]
  }
 ],
 "metadata": {
  "kernelspec": {
   "display_name": "Python 3",
   "language": "python",
   "name": "python3"
  },
  "language_info": {
   "codemirror_mode": {
    "name": "ipython",
    "version": 3
   },
   "file_extension": ".py",
   "mimetype": "text/x-python",
   "name": "python",
   "nbconvert_exporter": "python",
   "pygments_lexer": "ipython3",
   "version": "3.10.11"
  }
 },
 "nbformat": 4,
 "nbformat_minor": 5
}
